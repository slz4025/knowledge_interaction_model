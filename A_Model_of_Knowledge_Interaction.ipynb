{
  "nbformat": 4,
  "nbformat_minor": 0,
  "metadata": {
    "colab": {
      "name": "A Model of Knowledge Interaction",
      "provenance": [],
      "collapsed_sections": [
        "b-mNmatPzdCC",
        "QiMN5gTmzWbI",
        "IsjR5VYPOJiA",
        "bw5APtSaMalt",
        "3c98__KxN2XK",
        "4fy_JNIuvvem"
      ],
      "toc_visible": true,
      "mount_file_id": "1RE6KtflQLQPzoZtu3TsAIdwQvHk0SrN2",
      "authorship_tag": "ABX9TyPvPFbb8xk3FigLxK5txmvx",
      "include_colab_link": true
    },
    "kernelspec": {
      "name": "python3",
      "display_name": "Python 3"
    }
  },
  "cells": [
    {
      "cell_type": "markdown",
      "metadata": {
        "id": "view-in-github",
        "colab_type": "text"
      },
      "source": [
        "<a href=\"https://colab.research.google.com/github/slz4025/knowledge_interaction_model/blob/master/A_Model_of_Knowledge_Interaction.ipynb\" target=\"_parent\"><img src=\"https://colab.research.google.com/assets/colab-badge.svg\" alt=\"Open In Colab\"/></a>"
      ]
    },
    {
      "cell_type": "markdown",
      "metadata": {
        "id": "_zuQwjDRHOLo",
        "colab_type": "text"
      },
      "source": [
        "#Introduction\n",
        "\n",
        "For the class, **Introduction to Parallel Distributed Processing [85-419]**.\n",
        "\n",
        "Here, we present \n",
        "1. a theoretical model of how topics are interrelated in people's minds, \n",
        "2. how this model affects their learning of these topics, and \n",
        "3. the performance of different teacher strategies given this model."
      ]
    },
    {
      "cell_type": "markdown",
      "metadata": {
        "id": "2QXQE-UkUne_",
        "colab_type": "text"
      },
      "source": [
        "#Setup"
      ]
    },
    {
      "cell_type": "code",
      "metadata": {
        "id": "XdHY_RE2Ag9-",
        "colab_type": "code",
        "outputId": "7d04fc60-82ab-4cd1-ebbf-d886934b3155",
        "colab": {
          "base_uri": "https://localhost:8080/"
        }
      },
      "source": [
        "import numpy as np\n",
        "from random import *\n",
        "import math\n",
        "import csv\n",
        "import copy\n",
        "import networkx as nx\n",
        "import pandas as pd\n",
        "import os\n",
        "import glob\n",
        "import matplotlib.pyplot as plt\n",
        "import matplotlib.image as mpimg\n",
        "import seaborn as sns"
      ],
      "execution_count": 0,
      "outputs": [
        {
          "output_type": "stream",
          "text": [
            "/usr/local/lib/python3.6/dist-packages/statsmodels/tools/_testing.py:19: FutureWarning: pandas.util.testing is deprecated. Use the functions in the public API at pandas.testing instead.\n",
            "  import pandas.util.testing as tm\n"
          ],
          "name": "stderr"
        }
      ]
    },
    {
      "cell_type": "code",
      "metadata": {
        "id": "6B4JCX-RbtAr",
        "colab_type": "code",
        "colab": {}
      },
      "source": [
        "# hyperparameters\n",
        "\n",
        "T = 1000                    # number of timesteps\n",
        "N = 20                      # number of topics\n",
        "P = 1                       # number of listeners\n",
        "LEARN_RATE = 0.001          # how fast a person learns  \n",
        "CONNECT_RATE = 0.05         # how fast a person connects topics\n",
        "EPSILON = 0.1               # slight offset\n",
        "REPEAT_INTERVAL = 10        # <visit Speaker>\n",
        "\"\"\"\n",
        "  NOTE: As tested, the higher this is, \n",
        "  the faster learning convergence is reached.\n",
        "\"\"\"\n",
        "SOFT_RADIUS = 3             # <visit Speaker>\n",
        "HARD_RADIUS = 4.5           # <visit Speaker>\n",
        "MIN_THRESHOLD = 0.1         # <visit Speaker>"
      ],
      "execution_count": 0,
      "outputs": []
    },
    {
      "cell_type": "markdown",
      "metadata": {
        "id": "G7olraSfNBED",
        "colab_type": "text"
      },
      "source": [
        "###Skip the test cells (marked **test**), or upload `person_{0,1,2}.csv`."
      ]
    },
    {
      "cell_type": "markdown",
      "metadata": {
        "id": "b-mNmatPzdCC",
        "colab_type": "text"
      },
      "source": [
        "#Helper functions "
      ]
    },
    {
      "cell_type": "code",
      "metadata": {
        "id": "CZK_Gp4pKWtu",
        "colab_type": "code",
        "colab": {}
      },
      "source": [
        "def flatten(L): # shallow\n",
        "  L = [e for l in L for e in l]\n",
        "  return L\n",
        "\n",
        "def shuffle_mapping(num):\n",
        "  reindex = np.arange(num)\n",
        "  np.random.shuffle(reindex)\n",
        "  reindex = {i:r for i,r in enumerate(reindex)}\n",
        "  invindex = {r:i for i,r in reindex.items()}\n",
        "  return reindex, invindex\n",
        "\n",
        "def reindex_val_neigh(reindex, values, neighbors):\n",
        "  values_reindexed = {reindex[n]:v for n,v in values.items()}\n",
        "  neighbors_reindexed = {reindex[n]:{reindex[ns]:w \\\n",
        "    for ns,w in neighbors[n].items()} for n in neighbors}\n",
        "  return values_reindexed, neighbors_reindexed\n",
        "\n",
        "def min_max(L):\n",
        "  L_min = np.min(L)\n",
        "  L_max = np.max(L)\n",
        "  diff = L_max - L_min\n",
        "  if diff == 0:\n",
        "    L_mm = L - L_min\n",
        "  else:\n",
        "    L_mm = (L - L_min) / diff\n",
        "  return L_mm\n",
        "\n",
        "def sum_dict(D):\n",
        "  dict_sum = 0\n",
        "  for e,v in D.items():\n",
        "    dict_sum += v\n",
        "  return dict_sum\n",
        "\n",
        "def conn(neighbors, topic):\n",
        "  return sum_dict(neighbors[topic])\n",
        "\n",
        "def link_average(Ln, weight = None):\n",
        "  length = len(Ln)\n",
        "  if weight == None:\n",
        "    weight = [1 for i in range(length)]\n",
        "  assert(length == len(weight) and length != 0)\n",
        "  num_elem = len(Ln[0].keys())\n",
        "\n",
        "  average = {i:{j:0 for j in range(num_elem) if j != i} \\\n",
        "    for i in range(num_elem)}\n",
        "\n",
        "  for e, neighbors in enumerate(Ln):\n",
        "    for i in neighbors:\n",
        "      for j, v in neighbors[i].items():\n",
        "        average[i][j] += v * weight[e]\n",
        "        # for j not in neighbors[i], automatically do 0\n",
        "\n",
        "  norm = sum(weight)\n",
        "  average = {i: {j: float(average[i][j]) / norm \\\n",
        "    for j in range(num_elem) if j != i} for i in range(num_elem)}\n",
        "\n",
        "  return average\n",
        "\n",
        "def make_choice(available, score):\n",
        "    assert(all([s >= 0 for s in score]))\n",
        "\n",
        "    sum_score = sum(score)\n",
        "    if sum_score == 0: # uniform\n",
        "      probs = np.array([1 / len(score) for i in range(len(score))])\n",
        "    else:\n",
        "      probs = np.array([float(s) / sum_score for s in score])\n",
        "\n",
        "    index = np.random.choice(np.arange(len(available)), p = probs)\n",
        "    return available[index]"
      ],
      "execution_count": 0,
      "outputs": []
    },
    {
      "cell_type": "markdown",
      "metadata": {
        "id": "3maMN9QLObBB",
        "colab_type": "text"
      },
      "source": [
        "###**test**: small helper functions"
      ]
    },
    {
      "cell_type": "code",
      "metadata": {
        "id": "z9q6zzvLOZWC",
        "colab_type": "code",
        "outputId": "a63cce8b-722e-4297-f9c9-cf03e7f3d86b",
        "colab": {
          "base_uri": "https://localhost:8080/"
        }
      },
      "source": [
        "# test shuffle_mapping\n",
        "re, inv = shuffle_mapping(5)\n",
        "print(\"re: {}\".format(re))\n",
        "print(\"inv: {}\".format(inv))\n",
        "\n",
        "# test reindex_val_neigh\n",
        "test_num = 5\n",
        "values = {0:0.4, 1:0.0, 2:0.99, 3:0.23, 4:0.1}\n",
        "neighbors = {0:{3:2, 2:1}, 1:{2:1}, 2:{0:1, 1:1, 4:3}, 3:{0:2}, 4:{3:3}}\n",
        "values_re, neighbors_re = reindex_val_neigh(re, values, neighbors)\n",
        "values_inv, neighbors_inv = reindex_val_neigh(inv, values_re, neighbors_re)\n",
        "print(\"value decoded back: \", values == values_inv)\n",
        "print(\"neighbors decoded back: \", neighbors == neighbors_inv)\n",
        "\n",
        "# test min_max\n",
        "L = [1, -5, 0, 10, 2, -49, 3.5, 4, 100]\n",
        "L_mm = min_max(L)\n",
        "print(L_mm)\n",
        "\n",
        "# test sum_dict\n",
        "D = {'e': 5, 'a': 1, 'b': 2, 'd': 4, 'c': 3}\n",
        "dict_sum = sum_dict(D)\n",
        "print(\"sum_dict correct: \", dict_sum == 15)\n",
        "\n",
        "# test conn\n",
        "connectivity = conn(neighbors, 2)\n",
        "print(\"connectivity: \", connectivity)\n",
        "\n",
        "# test link_average\n",
        "test_num = 3\n",
        "D1 = {0: {1: 10, 2: 20}, 1: {0: 40, 2: 50}, 2: {0: 30, 1: 10}}\n",
        "D2 = {0: {1: 1, 2: 2}, 1: {0: 4, 2: 5}, 2: {0: 3, 1: 1}}\n",
        "D3 = {0: {1: 2, 2: 4}, 1: {0: 8, 2: 10}, 2: {0: 6, 1: 2}}\n",
        "weight = [0.1, 1, 0.5]\n",
        "Ln = [D1, D2, D3]\n",
        "avg = link_average(Ln)\n",
        "print(\"uniform avg: \", avg)\n",
        "avg = link_average(Ln, weight)\n",
        "print(\"weighted avg: \", avg)\n",
        "\n",
        "# test make_choice\n",
        "available = ['a', 'b', 'c', 'd', 'e']\n",
        "score = [1, 2, 4, 4, 3]\n",
        "choice = make_choice(available, score)\n",
        "print(\"choice: \", choice)"
      ],
      "execution_count": 0,
      "outputs": [
        {
          "output_type": "stream",
          "text": [
            "re: {0: 2, 1: 1, 2: 4, 3: 0, 4: 3}\n",
            "inv: {2: 0, 1: 1, 4: 2, 0: 3, 3: 4}\n",
            "value decoded back:  True\n",
            "neighbors decoded back:  True\n",
            "[0.33557047 0.29530201 0.32885906 0.39597315 0.34228188 0.\n",
            " 0.35234899 0.3557047  1.        ]\n",
            "sum_dict correct:  True\n",
            "connectivity:  5\n",
            "uniform avg:  {0: {1: 4.333333333333333, 2: 8.666666666666666}, 1: {0: 17.333333333333332, 2: 21.666666666666668}, 2: {0: 13.0, 1: 4.333333333333333}}\n",
            "weighted avg:  {0: {1: 1.875, 2: 3.75}, 1: {0: 7.5, 2: 9.375}, 2: {0: 5.625, 1: 1.875}}\n",
            "choice:  c\n"
          ],
          "name": "stdout"
        }
      ]
    },
    {
      "cell_type": "code",
      "metadata": {
        "id": "c2mBAbWOD3Kj",
        "colab_type": "code",
        "colab": {}
      },
      "source": [
        "def draw_helper(file_name, values, neighbors):\n",
        "  G = nx.Graph()\n",
        "  for n,v in values.items():\n",
        "    red = str(hex(int(v * 255)))[2:][-2:]\n",
        "    if len(red) == 0: red = \"00\"\n",
        "    if len(red) == 1: red = \"0\" + red\n",
        "    shade = '#' + red + '0000'\n",
        "    G.add_node(n, color=shade)\n",
        "\n",
        "  for n,neighbors in neighbors.items():\n",
        "    for nn,ns in neighbors.items():\n",
        "      G.add_edge(n,nn,color='black',weight=ns)\n",
        "\n",
        "  # specify amount of optimal distance\n",
        "  pos = nx.spring_layout(G, 0.75)\n",
        "  for p in pos:\n",
        "    pos[p][0] *= 2\n",
        "    pos[p][1] *= 2\n",
        "\n",
        "  nodes = list(G.nodes.data())\n",
        "  edges = G.edges()\n",
        "  node_colors = [u[1]['color'] for u in nodes]\n",
        "  edge_colors = [G[u][v]['color'] for u,v in edges]\n",
        "  weights = [G[u][v]['weight'] for u,v in edges]\n",
        "\n",
        "  fig = plt.figure()\n",
        "  nx.draw(G, pos, node_color=node_colors, \\\n",
        "    edges=edges, edge_color=edge_colors, width=weights)\n",
        "  nx.draw_networkx_labels(G, pos, font_color=\"white\")\n",
        "  fig.savefig(file_name + \".png\", format=\"PNG\")\n",
        "  plt.close(fig)\n",
        "\n",
        "  return fig"
      ],
      "execution_count": 0,
      "outputs": []
    },
    {
      "cell_type": "code",
      "metadata": {
        "id": "Sgx2rwiDY75t",
        "colab_type": "code",
        "colab": {}
      },
      "source": [
        "def draw(values, neighbors):\n",
        "  draw_helper(\"temp\", values, neighbors)\n",
        "  img = mpimg.imread(\"temp\" + \".png\")\n",
        "  imgplot = plt.imshow(img)\n",
        "  plt.show()\n",
        "  print()"
      ],
      "execution_count": 0,
      "outputs": []
    },
    {
      "cell_type": "code",
      "metadata": {
        "id": "KR2jXL5_Yk5z",
        "colab_type": "code",
        "colab": {}
      },
      "source": [
        "def ingest(file_name):\n",
        "  all_values = {}\n",
        "  all_neighbors = {}\n",
        "  with open(file_name + \".csv\", 'rt') as csvfile:\n",
        "    reader = csv.reader(csvfile, delimiter=' ')\n",
        "    for row in reader:\n",
        "      topic = int(row[0])\n",
        "      value = float(row[1])\n",
        "      neighbors = {}\n",
        "      neighbors_raw = row[2]\n",
        "      if neighbors_raw != \"\":\n",
        "        neighbors_raw = [cn.split(':') for cn in neighbors_raw.split(',')]\n",
        "        for nr in neighbors_raw:\n",
        "          neighbors[int(nr[0])] = int(nr[1])\n",
        "      all_values[topic] = value\n",
        "      all_neighbors[topic] = neighbors\n",
        "\n",
        "  for a in all_neighbors:\n",
        "    for b in all_neighbors[a]:\n",
        "      assert(a in all_neighbors[b])\n",
        "      assert(all_neighbors[a][b] == all_neighbors[b][a])\n",
        "\n",
        "  return all_values, all_neighbors"
      ],
      "execution_count": 0,
      "outputs": []
    },
    {
      "cell_type": "code",
      "metadata": {
        "id": "0cFY3KT_wFS0",
        "colab_type": "code",
        "colab": {}
      },
      "source": [
        "def save(file_name, values, neighbors):\n",
        "  with open(file_name + \".csv\", 'wt') as csvfile:\n",
        "    filewriter = csv.writer(csvfile, delimiter=' ')\n",
        "    for i in range(N):\n",
        "      elem0 = str(i)\n",
        "      elem1 = str(values[i])\n",
        "      elem2 = ','.join([\"{}:{}\".format(n,w) for n,w in neighbors[i].items()])\n",
        "      filewriter.writerow([elem0, elem1, elem2])\n",
        "  draw_helper(file_name, values, neighbors)"
      ],
      "execution_count": 0,
      "outputs": []
    },
    {
      "cell_type": "markdown",
      "metadata": {
        "id": "6oqoebquN85I",
        "colab_type": "text"
      },
      "source": [
        "###**test**: `ingest`"
      ]
    },
    {
      "cell_type": "code",
      "metadata": {
        "id": "8ocVqqIUN7Yp",
        "colab_type": "code",
        "outputId": "37318d86-8849-4a89-838a-1f0c79b8147b",
        "colab": {
          "base_uri": "https://localhost:8080/"
        }
      },
      "source": [
        "values, neighbors = ingest(\"person_0\")\n",
        "print(values)\n",
        "print(neighbors)"
      ],
      "execution_count": 0,
      "outputs": [
        {
          "output_type": "error",
          "ename": "FileNotFoundError",
          "evalue": "ignored",
          "traceback": [
            "\u001b[0;31m---------------------------------------------------------------------------\u001b[0m",
            "\u001b[0;31mFileNotFoundError\u001b[0m                         Traceback (most recent call last)",
            "\u001b[0;32m<ipython-input-9-8df69ea31c0f>\u001b[0m in \u001b[0;36m<module>\u001b[0;34m()\u001b[0m\n\u001b[0;32m----> 1\u001b[0;31m \u001b[0mvalues\u001b[0m\u001b[0;34m,\u001b[0m \u001b[0mneighbors\u001b[0m \u001b[0;34m=\u001b[0m \u001b[0mingest\u001b[0m\u001b[0;34m(\u001b[0m\u001b[0;34m\"person_0\"\u001b[0m\u001b[0;34m)\u001b[0m\u001b[0;34m\u001b[0m\u001b[0;34m\u001b[0m\u001b[0m\n\u001b[0m\u001b[1;32m      2\u001b[0m \u001b[0mprint\u001b[0m\u001b[0;34m(\u001b[0m\u001b[0mvalues\u001b[0m\u001b[0;34m)\u001b[0m\u001b[0;34m\u001b[0m\u001b[0;34m\u001b[0m\u001b[0m\n\u001b[1;32m      3\u001b[0m \u001b[0mprint\u001b[0m\u001b[0;34m(\u001b[0m\u001b[0mneighbors\u001b[0m\u001b[0;34m)\u001b[0m\u001b[0;34m\u001b[0m\u001b[0;34m\u001b[0m\u001b[0m\n",
            "\u001b[0;32m<ipython-input-7-0b9211341276>\u001b[0m in \u001b[0;36mingest\u001b[0;34m(file_name)\u001b[0m\n\u001b[1;32m      2\u001b[0m   \u001b[0mall_values\u001b[0m \u001b[0;34m=\u001b[0m \u001b[0;34m{\u001b[0m\u001b[0;34m}\u001b[0m\u001b[0;34m\u001b[0m\u001b[0;34m\u001b[0m\u001b[0m\n\u001b[1;32m      3\u001b[0m   \u001b[0mall_neighbors\u001b[0m \u001b[0;34m=\u001b[0m \u001b[0;34m{\u001b[0m\u001b[0;34m}\u001b[0m\u001b[0;34m\u001b[0m\u001b[0;34m\u001b[0m\u001b[0m\n\u001b[0;32m----> 4\u001b[0;31m   \u001b[0;32mwith\u001b[0m \u001b[0mopen\u001b[0m\u001b[0;34m(\u001b[0m\u001b[0mfile_name\u001b[0m \u001b[0;34m+\u001b[0m \u001b[0;34m\".csv\"\u001b[0m\u001b[0;34m,\u001b[0m \u001b[0;34m'rt'\u001b[0m\u001b[0;34m)\u001b[0m \u001b[0;32mas\u001b[0m \u001b[0mcsvfile\u001b[0m\u001b[0;34m:\u001b[0m\u001b[0;34m\u001b[0m\u001b[0;34m\u001b[0m\u001b[0m\n\u001b[0m\u001b[1;32m      5\u001b[0m     \u001b[0mreader\u001b[0m \u001b[0;34m=\u001b[0m \u001b[0mcsv\u001b[0m\u001b[0;34m.\u001b[0m\u001b[0mreader\u001b[0m\u001b[0;34m(\u001b[0m\u001b[0mcsvfile\u001b[0m\u001b[0;34m,\u001b[0m \u001b[0mdelimiter\u001b[0m\u001b[0;34m=\u001b[0m\u001b[0;34m' '\u001b[0m\u001b[0;34m)\u001b[0m\u001b[0;34m\u001b[0m\u001b[0;34m\u001b[0m\u001b[0m\n\u001b[1;32m      6\u001b[0m     \u001b[0;32mfor\u001b[0m \u001b[0mrow\u001b[0m \u001b[0;32min\u001b[0m \u001b[0mreader\u001b[0m\u001b[0;34m:\u001b[0m\u001b[0;34m\u001b[0m\u001b[0;34m\u001b[0m\u001b[0m\n",
            "\u001b[0;31mFileNotFoundError\u001b[0m: [Errno 2] No such file or directory: 'person_0.csv'"
          ]
        }
      ]
    },
    {
      "cell_type": "markdown",
      "metadata": {
        "id": "ln-2l5cgOGs_",
        "colab_type": "text"
      },
      "source": [
        "###**test**: `save`"
      ]
    },
    {
      "cell_type": "code",
      "metadata": {
        "id": "zcxS_b24OENR",
        "colab_type": "code",
        "colab": {}
      },
      "source": [
        "file_name = \"person_save\"\n",
        "save(file_name, values, neighbors)\n",
        "values, neighbors = ingest(file_name)\n",
        "print(values)\n",
        "print(neighbors)"
      ],
      "execution_count": 0,
      "outputs": []
    },
    {
      "cell_type": "markdown",
      "metadata": {
        "id": "kSiJrMGTOKMu",
        "colab_type": "text"
      },
      "source": [
        "###**test**: `draw`"
      ]
    },
    {
      "cell_type": "code",
      "metadata": {
        "id": "EZmGo1gDZW20",
        "colab_type": "code",
        "colab": {}
      },
      "source": [
        "draw(values, neighbors)"
      ],
      "execution_count": 0,
      "outputs": []
    },
    {
      "cell_type": "code",
      "metadata": {
        "id": "RFNStn_-VLO5",
        "colab_type": "code",
        "colab": {}
      },
      "source": [
        "def diameter(neighbors, subgraph):\n",
        "  \"\"\" It is critical the subgraph is actually connected.  Otherwise\n",
        "      we will loop forever. \"\"\"\n",
        "  size = len(subgraph)\n",
        "  nmat = np.zeros((size, size))\n",
        "  for i,s in enumerate(subgraph):\n",
        "    for j,t in enumerate(subgraph):\n",
        "      if i == j: nmat[i,i] = 1\n",
        "      elif t in neighbors[s]:\n",
        "        nmat[i,j] = 1\n",
        "  # we now keep multiplying the matrix until every entry is nonzero\n",
        "  prod = nmat\n",
        "  diameter = 1\n",
        "  while not np.all(prod):\n",
        "    prod = np.dot(prod, nmat)\n",
        "    diameter += 1\n",
        "  return diameter"
      ],
      "execution_count": 0,
      "outputs": []
    },
    {
      "cell_type": "markdown",
      "metadata": {
        "id": "1c8hc8nyO4Ab",
        "colab_type": "text"
      },
      "source": [
        "###**test**: `diameter`"
      ]
    },
    {
      "cell_type": "code",
      "metadata": {
        "id": "f3lcRf2HO3NK",
        "colab_type": "code",
        "colab": {}
      },
      "source": [
        "neighbors = {0: {5,1}, 1: {0,2}, 2: {1,3}, 3: {2,4}, 4: {3,5}, 5: {4,0}}\n",
        "subgraph = [0, 1, 2, 3, 4, 5]\n",
        "dia = diameter(neighbors, subgraph)\n",
        "print(\"diameter: \", dia)"
      ],
      "execution_count": 0,
      "outputs": []
    },
    {
      "cell_type": "code",
      "metadata": {
        "id": "3gdKLmH9Zr2m",
        "colab_type": "code",
        "colab": {}
      },
      "source": [
        "def subgraph_metrics(values, neighbors, subgraph):\n",
        "  \"\"\"\n",
        "  (1) size, \n",
        "  (2) min value, (3) max value, (4) avg value, (5) std value, \n",
        "  (6) min conn, (7) max conn, (8) avg conn, (9) std conn, \n",
        "  (10) diameter.\n",
        "  \"\"\"\n",
        "  metrics = {}\n",
        "  metrics[\"size\"] = [len(subgraph)]\n",
        "  sub_values = np.array([values[s] for s in subgraph])\n",
        "  metrics[\"min_val\"] = [sub_values.min()]\n",
        "  metrics[\"max_val\"] = [sub_values.max()]\n",
        "  metrics[\"avg_val\"] = [np.mean(sub_values)]\n",
        "  metrics[\"std_val\"] = [np.std(sub_values)]\n",
        "  sub_conns = np.array([conn(neighbors, s) for s in subgraph])\n",
        "  metrics[\"min_conn\"] = [sub_conns.min()]\n",
        "  metrics[\"max_conn\"] = [sub_conns.max()]\n",
        "  metrics[\"avg_conn\"] = [np.mean(sub_conns)]\n",
        "  metrics[\"std_conn\"] = [np.std(sub_conns)]\n",
        "  metrics[\"diameter\"] = [diameter(neighbors, subgraph)]\n",
        "\n",
        "  return metrics"
      ],
      "execution_count": 0,
      "outputs": []
    },
    {
      "cell_type": "code",
      "metadata": {
        "id": "0ovX3-3ae44P",
        "colab_type": "code",
        "colab": {}
      },
      "source": [
        "def find_subgraphs(neighbors, nodes):\n",
        "  subgraphs = []\n",
        "  visited = set()\n",
        "  remaining = set(nodes)\n",
        "  while len(remaining) > 0:\n",
        "    curr = [remaining.pop()]\n",
        "    subgraph = curr\n",
        "    while len(curr) > 0:\n",
        "      visited = visited.union(curr)\n",
        "      ring = set(flatten([list(neighbors[s].keys()) for s in curr]))\\\n",
        "        .difference(visited)\n",
        "      remaining = remaining.difference(ring)\n",
        "      subgraph += ring\n",
        "      curr = ring\n",
        "    subgraphs.append(subgraph)\n",
        "  return subgraphs"
      ],
      "execution_count": 0,
      "outputs": []
    },
    {
      "cell_type": "markdown",
      "metadata": {
        "id": "hZiQxQpvPcwn",
        "colab_type": "text"
      },
      "source": [
        "###**test**: `find_subgraphs`"
      ]
    },
    {
      "cell_type": "code",
      "metadata": {
        "id": "c3h5huSZPM2o",
        "colab_type": "code",
        "colab": {}
      },
      "source": [
        "values, neighbors = ingest(\"person_0\")\n",
        "subgraphs = find_subgraphs(neighbors, [i for i in range(N)])\n",
        "draw(values, neighbors)\n",
        "print(subgraphs)"
      ],
      "execution_count": 0,
      "outputs": []
    },
    {
      "cell_type": "markdown",
      "metadata": {
        "id": "QiMN5gTmzWbI",
        "colab_type": "text"
      },
      "source": [
        "#Actors and environment"
      ]
    },
    {
      "cell_type": "markdown",
      "metadata": {
        "id": "2s349Pf1XcJR",
        "colab_type": "text"
      },
      "source": [
        "##Listener"
      ]
    },
    {
      "cell_type": "code",
      "metadata": {
        "id": "-HEKhSgRcf1u",
        "colab_type": "code",
        "colab": {}
      },
      "source": [
        "class Listener:\n",
        "\n",
        "  def __init__(self, values, neighbors, learn_rate, connect_rate):\n",
        "    self.values = values           # level of knowledge in topic\n",
        "    self.neighbors = neighbors     # other topic and number of links\n",
        "    self.prev_topic = None         # both speakers, listeners use this\n",
        "    self.learn_rate = learn_rate\n",
        "    self.connect_rate = connect_rate\n",
        "    self.journal = []\n",
        "    # matrix that holds incremental updates\n",
        "    self.learn_connect = np.zeros((N, N))\n",
        "    for i in self.neighbors:\n",
        "      for j in self.neighbors[i]:\n",
        "        self.learn_connect[i, j] = float(self.neighbors[i][j])\n",
        "\n",
        "  def listen(self, topic, other_value):\n",
        "    # compute connectivity of topic, one-away with strength (NOTE: no exp)\n",
        "    connectivity = conn(self.neighbors, topic)\n",
        "\n",
        "    # update value of topic\n",
        "    addition = self.learn_rate * other_value * \\\n",
        "               (connectivity + 1) * \\\n",
        "               (self.values[topic] + EPSILON)\n",
        "    addition = min(1.0 - self.values[topic], addition)\n",
        "    self.values[topic] += addition\n",
        "\n",
        "    # record our update in our journal\n",
        "    self.journal.append((topic, addition))\n",
        "\n",
        "    # update connectivity of topic\n",
        "    if self.prev_topic != None:\n",
        "      if self.prev_topic != topic:\n",
        "        self.learn_connect[topic,self.prev_topic] += self.connect_rate\n",
        "        self.learn_connect[self.prev_topic, topic] += self.connect_rate\n",
        "        assert(self.learn_connect[topic,self.prev_topic] \\\n",
        "          == self.learn_connect[self.prev_topic, topic])\n",
        "        updated_conn = math.floor(self.learn_connect[topic,self.prev_topic])\n",
        "        self.neighbors[topic][self.prev_topic] = updated_conn\n",
        "        self.neighbors[self.prev_topic][topic] = updated_conn\n",
        "\n",
        "    self.prev_topic = topic\n",
        "    return addition\n",
        "\n",
        "  def draw(self):\n",
        "    draw(self.values, self.neighbors)"
      ],
      "execution_count": 0,
      "outputs": []
    },
    {
      "cell_type": "markdown",
      "metadata": {
        "id": "k4ULkE_WQJUU",
        "colab_type": "text"
      },
      "source": [
        "###**test**: `Listener` instantiate"
      ]
    },
    {
      "cell_type": "code",
      "metadata": {
        "id": "WFrR4BeHJ7Fi",
        "colab_type": "code",
        "colab": {}
      },
      "source": [
        "values, neighbors = ingest(\"person_0\")\n",
        "listener = Listener(values, neighbors, LEARN_RATE, CONNECT_RATE)\n",
        "listener.draw()"
      ],
      "execution_count": 0,
      "outputs": []
    },
    {
      "cell_type": "markdown",
      "metadata": {
        "id": "tNyWv_fVQPOe",
        "colab_type": "text"
      },
      "source": [
        "###**test**: `Listener` step"
      ]
    },
    {
      "cell_type": "code",
      "metadata": {
        "id": "dbFk7JTOJhoH",
        "colab_type": "code",
        "colab": {}
      },
      "source": [
        "topic = 10\n",
        "other_value = 0.1\n",
        "addition = listener.listen(topic, other_value)\n",
        "listener.draw()\n",
        "print(\"addition for topic {} with value {}: {}\"\\\n",
        "  .format(topic, other_value, addition))"
      ],
      "execution_count": 0,
      "outputs": []
    },
    {
      "cell_type": "markdown",
      "metadata": {
        "id": "owSzoQG-Xe6J",
        "colab_type": "text"
      },
      "source": [
        "##Speaker"
      ]
    },
    {
      "cell_type": "code",
      "metadata": {
        "id": "lqYEXkCnQOZe",
        "colab_type": "code",
        "colab": {}
      },
      "source": [
        "class Speaker:\n",
        "\n",
        "  def __init__(self, values, neighbors, target, args):\n",
        "    self.values = values\n",
        "    self.neighbors = neighbors\n",
        "    self.target = target\n",
        "    self.speak_count = 0\n",
        "    self.prev_topic = None\n",
        "    self.args = args\n",
        "    self.journal = []\n",
        "    self.classroom = None\n",
        "    self.strategy = None\n",
        "    self.acceptable_topics = None\n",
        "    assert(self.values[target] > 0) # so we can actually teach\n",
        "\n",
        "    \"\"\"\n",
        "      strategy: fixed, inspired, feedback\n",
        "        how we choose a topic\n",
        "      repeat: 0, 1\n",
        "        whether we repeat the target topic\n",
        "      constrained: none, bubble, apriori\n",
        "        set of topics the spoken one is allowed to be\n",
        "      *soft_radius: <int> [if strategy == inspired]\n",
        "        iterations of probabilistic traversal from topic\n",
        "      *help_min: 0, 1 [if strategy == feedback]\n",
        "        whether we focus on minimum bracket students\n",
        "      *repeat_interval: <int> [if repeat == 1]\n",
        "        interval between repeats\n",
        "      *hard_radius: <int> [if constrained == bubble/apriori]\n",
        "        distance from target\n",
        "      *min_threshold: <float> [if help_min == 1]\n",
        "        for inverse function when doing help_min\n",
        "    \"\"\"\n",
        "    if \"strategy\" not in self.args:\n",
        "      print(\"ERROR: no `strategy` argument\")\n",
        "      return\n",
        "    if \"repeat\" not in self.args:\n",
        "      print(\"ERROR: no `repeat` argument\")\n",
        "      return\n",
        "    if \"constrained\" not in self.args:\n",
        "      print(\"ERROR: no `constrained` argument\")\n",
        "      return\n",
        "    if self.args[\"strategy\"] not in [\"fixed\", \"inspired\", \"feedback\"]:\n",
        "      print(\"ERROR: `strategy` must be in ['fixed', 'inspired', 'feedback']\")\n",
        "      return\n",
        "    if self.args[\"repeat\"] not in [0, 1]:\n",
        "      print(\"ERROR: `repeat` must be in [0, 1]\")\n",
        "      return\n",
        "    if self.args[\"constrained\"] not in [\"none\", \"bubble\", \"apriori\"]:\n",
        "      print(\"ERROR: `constrained` must be in ['none', 'bubble', 'apriori']\")\n",
        "      return\n",
        "    if self.args[\"strategy\"] == \"inspired\":\n",
        "      if \"soft_radius\" not in self.args:\n",
        "        print(\"ERROR: no `soft_radius` argument when `strategy` == 'inspired'\") \n",
        "        return\n",
        "    if self.args[\"strategy\"] == \"feedback\":\n",
        "      if \"help_min\" not in self.args:\n",
        "        print(\"ERROR: no `help_min` argument when `strategy` == 'feedback'\")\n",
        "        return\n",
        "      if self.args[\"help_min\"] == 1:\n",
        "        if \"min_threshold\" not in self.args:\n",
        "          print(\"ERROR: no `min_threshold` argument when `help_min` == 1\")\n",
        "          return\n",
        "    if self.args[\"repeat\"] == 1:\n",
        "      if \"repeat_interval\" not in self.args:\n",
        "        print(\"ERROR: no `repeat_interval` argument when `repeat` == 1\")\n",
        "        return\n",
        "    if self.args[\"constrained\"] == \"bubble\":\n",
        "      if \"hard_radius\" not in self.args:\n",
        "        print(\"ERROR: no `hard_radius` argument when `constrained` == bubble\")\n",
        "        return\n",
        "    if self.args[\"constrained\"] == \"apriori\":\n",
        "      if \"hard_radius\" not in self.args:\n",
        "        print(\"ERROR: no `hard_radius` argument when `constrained` == apriori\")\n",
        "        return\n",
        "\n",
        "  def set_classroom(self, classroom): # run before speak\n",
        "    self.classroom = classroom\n",
        "\n",
        "  def init_speak(self):\n",
        "    if self.args[\"strategy\"] == \"fixed\":\n",
        "      self.strategy = self.fixed\n",
        "    elif self.args[\"strategy\"] == \"inspired\":\n",
        "      self.strategy = self.inspired\n",
        "    elif self.args[\"strategy\"] == \"feedback\":\n",
        "      self.strategy = self.feedback\n",
        "    assert(self.args[\"strategy\"] in [\"fixed\", \"inspired\", \"feedback\"])\n",
        "    \n",
        "    self.acceptable_topics = [i for i in range(N)] # default to all\n",
        "\n",
        "    # limit to those that are close to the target in speaker\n",
        "    if self.args[\"constrained\"] == \"bubble\":\n",
        "      hard_radius = self.args[\"hard_radius\"]\n",
        "      self.acceptable_topics = self.hard_spider(self.target, hard_radius, \\\n",
        "        self.neighbors)\n",
        "\n",
        "    if self.args[\"constrained\"] == \"apriori\":\n",
        "      hard_radius = self.args[\"hard_radius\"]\n",
        "      student_neighbors = [s.neighbors for s in self.classroom.students]\n",
        "      avg_listener_neighbors = link_average(student_neighbors)\n",
        "      self.acceptable_topics = self.hard_spider(self.target, hard_radius, \\\n",
        "        avg_listener_neighbors)\n",
        "    print(\"acceptable_topics: \", self.acceptable_topics)\n",
        "\n",
        "  # The distance between two nodes given their connectivity strength.\n",
        "  # This formula is also based on the expected number of steps before being\n",
        "  #   able to jump from one node to another via soft_spider.\n",
        "  def exp_dist(self, connectivity_strength):\n",
        "    return 1.0 / (1.0 - math.pow(0.5, connectivity_strength))\n",
        "\n",
        "  def distance(self, topic, neighbors):\n",
        "    dist = [None for i in range(N)]\n",
        "    dist[topic] = 0\n",
        "    visited = set([topic])\n",
        "    prev_pass = []\n",
        "    curr_pass = [topic]\n",
        "    next_pass = []\n",
        "    while prev_pass != curr_pass:\n",
        "        next_pass = []\n",
        "        for c in curr_pass:\n",
        "          for n, v in neighbors[c].items():\n",
        "            if v == 0: continue # bad edge\n",
        "            if not n in visited:\n",
        "              next_pass.append(n)\n",
        "            this_dist = self.exp_dist(v) # if v = 0, dist is inf\n",
        "            tot_dist = dist[c] + this_dist\n",
        "            if dist[n] == None:\n",
        "              dist[n] = tot_dist\n",
        "            else:\n",
        "              dist[n] = min(dist[n], tot_dist)\n",
        "        visited = visited.union(set(next_pass))\n",
        "        prev_pass = curr_pass\n",
        "        curr_pass = next_pass\n",
        "        print()\n",
        "    return dist\n",
        "\n",
        "  # assume neighbors has all topics with given id\n",
        "  def hard_spider(self, topic, radius, neighbors): # by distance\n",
        "    dist = self.distance(topic, neighbors)\n",
        "    acceptable = [i for i,d in enumerate(dist) if d != None and d <= radius]\n",
        "    return acceptable\n",
        "\n",
        "  def soft_spider(self, topic, radius):\n",
        "    current_pass = [topic]\n",
        "    visited = []\n",
        "    while radius > 0:\n",
        "      next_pass = []\n",
        "      for c in current_pass:\n",
        "        visited.append(c)\n",
        "        for n,sn in self.neighbors[c].items():\n",
        "          pass_thres = math.pow(0.5, sn)\n",
        "          if random() > pass_thres:\n",
        "            next_pass.append(n)\n",
        "      current_pass = next_pass\n",
        "      radius -= 1\n",
        "\n",
        "    return list(set(visited))\n",
        " \n",
        "  def fixed(self):\n",
        "    return self.target\n",
        "\n",
        "  def inspired(self):\n",
        "    soft_radius = self.args[\"soft_radius\"]\n",
        "\n",
        "    potential = self.soft_spider(self.prev_topic, soft_radius)\n",
        "\n",
        "    # constrain to acceptable topics\n",
        "    potential = [p for p in potential if p in self.acceptable_topics]\n",
        "    \n",
        "    # can always go back to prev topic, which we came from\n",
        "    assert(len(potential) != 0)\n",
        "\n",
        "    # relative connectivity among potential\n",
        "    connectivity = min_max([conn(self.neighbors, p) \\\n",
        "      for p in potential])\n",
        "      \n",
        "    # simple score of which node to go to based on connectivity and value\n",
        "    scores = [self.values[potential[i]] + connectivity[i] \\\n",
        "      for i in range(len(potential))]\n",
        "\n",
        "    topic = make_choice(potential, scores)\n",
        "\n",
        "    return topic\n",
        "\n",
        "  def inverse_weight(self): # TODO: may make more elegant\n",
        "    inverse_weight_max = 1 / self.args[\"min_threshold\"]\n",
        "    weight = []\n",
        "\n",
        "    for i,s in enumerate(self.classroom.students):\n",
        "      proficiency = s.values[self.target]\n",
        "      weight.append(min(inverse_weight_max, 1 / proficiency))\n",
        "\n",
        "    return weight\n",
        "\n",
        "  # generally, choose topics that on average are highly connected to target\n",
        "  def feedback(self): \n",
        "    student_neighbors = [s.neighbors for s in self.classroom.students]\n",
        "    # choose topics struggling students can relate best to\n",
        "    if self.args[\"help_min\"]:\n",
        "      weight = self.inverse_weight()\n",
        "      avg_neighbors = link_average(student_neighbors, weight)\n",
        "    else: # uniform weighting\n",
        "      avg_neighbors = link_average(student_neighbors)\n",
        "\n",
        "    # score is based on inverse distance\n",
        "    # can also be exponential\n",
        "    # TODO: may also consider using a soft spider or hard spider\n",
        "    defined = {n:v for n,v in avg_neighbors[self.target].items() if v != 0}\n",
        "    available = list(defined.keys())\n",
        "    scores = min_max([1 / self.exp_dist(v) for v in defined.values()])\n",
        "    \n",
        "    topic = make_choice(available, scores)\n",
        "\n",
        "    return topic\n",
        "\n",
        "  def speak(self):\n",
        "    if self.prev_topic == None:\n",
        "      topic = target\n",
        "    else:\n",
        "      if self.args[\"repeat\"]:\n",
        "        repeat_interval = self.args[\"repeat_interval\"]\n",
        "        if self.speak_count % repeat_interval == 0:\n",
        "          topic = self.target\n",
        "        else:\n",
        "          topic = self.strategy()\n",
        "      else:\n",
        "        topic = self.strategy()\n",
        "\n",
        "    topic_value = self.values[topic]\n",
        "    self.journal.append((topic, topic_value))\n",
        "    self.prev_topic = topic\n",
        "    self.speak_count += 1\n",
        "\n",
        "    return topic, topic_value\n",
        "\n",
        "  def draw(self):\n",
        "    draw(self.values, self.neighbors)"
      ],
      "execution_count": 0,
      "outputs": []
    },
    {
      "cell_type": "markdown",
      "metadata": {
        "id": "YcW-4eqvQyeR",
        "colab_type": "text"
      },
      "source": [
        "###**test**: `Speaker` instantiate"
      ]
    },
    {
      "cell_type": "code",
      "metadata": {
        "id": "FfZPheq6YVH8",
        "colab_type": "code",
        "colab": {}
      },
      "source": [
        "\"\"\"\n",
        "  NOTE: In order to test the feedback strategy or the apriori constraint,\n",
        "  need to have a classroom.\n",
        "\"\"\"\n",
        "\n",
        "target = 10\n",
        "values, neighbors = ingest(\"person_0\")\n",
        "args = {\"strategy\": \"inspired\", \"repeat\": 0, \"constrained\": \"none\", \\\n",
        "        \"repeat_interval\": REPEAT_INTERVAL, \\\n",
        "        \"soft_radius\": SOFT_RADIUS, \"hard_radius\": HARD_RADIUS, \\\n",
        "        \"help_min\": 0, \"min_threshold\": MIN_THRESHOLD}\n",
        "speaker = Speaker(values, neighbors, target, args)\n",
        "speaker.init_speak()\n",
        "values, neighbors = ingest(\"person_1\")\n",
        "listener = Listener(values, neighbors, LEARN_RATE, CONNECT_RATE)\n",
        "\n",
        "print(\"Speaker\")\n",
        "speaker.draw()\n",
        "print(\"Listener\")\n",
        "listener.draw()"
      ],
      "execution_count": 0,
      "outputs": []
    },
    {
      "cell_type": "markdown",
      "metadata": {
        "id": "nIE4kxzdQ2bw",
        "colab_type": "text"
      },
      "source": [
        "###**test**: `Speaker` step"
      ]
    },
    {
      "cell_type": "code",
      "metadata": {
        "id": "G0VTPju0U7Pb",
        "colab_type": "code",
        "colab": {}
      },
      "source": [
        "topic, topic_value = speaker.speak()\n",
        "addition = listener.listen(topic, topic_value)\n",
        "print(\"speaker\\ttopic: {}\\ttopic_value: {}\".format(topic, topic_value))\n",
        "listener.draw()\n",
        "print(\"addition for topic {} with value {}: {}\"\\\n",
        "  .format(topic, other_value, addition))"
      ],
      "execution_count": 0,
      "outputs": []
    },
    {
      "cell_type": "markdown",
      "metadata": {
        "id": "50oRRXz4Xhzi",
        "colab_type": "text"
      },
      "source": [
        "##Classroom\n",
        "\n",
        "One teacher, many student model of discussion.\n"
      ]
    },
    {
      "cell_type": "code",
      "metadata": {
        "id": "0bhXwx8sg5NS",
        "colab_type": "code",
        "colab": {}
      },
      "source": [
        "class Classroom:\n",
        "  \n",
        "  def __init__(self, teacher, students):\n",
        "    self.teacher = teacher\n",
        "    self.students = students\n",
        "    self.teacher.set_classroom(self)\n",
        "    self.teacher.init_speak()\n",
        "    self.topic = None\n",
        "    self.value = None\n",
        "    self.additions = []\n",
        "  \n",
        "  def step(self):\n",
        "    topic, value = self.teacher.speak()\n",
        "    self.topic = topic\n",
        "    self.value = value\n",
        "    self.additions = []\n",
        "    for i,s in enumerate(self.students):\n",
        "      add = s.listen(topic, value)\n",
        "      self.additions.append(add)\n",
        "\n",
        "  def output(self):\n",
        "    print(\"Teacher\")\n",
        "    self.teacher.draw()\n",
        "    for i,s in enumerate(self.students):\n",
        "      print(\"Student {}\".format(i))\n",
        "      s.draw()\n",
        "\n",
        "  def export(self, file_name):\n",
        "    data = {}\n",
        "    # topics\n",
        "    topics_visited = [t for t,a in self.teacher.journal]\n",
        "    data[\"topic\"] = topics_visited\n",
        "    # teacher\n",
        "    teacher_ID = str(0)\n",
        "    elems = [a for t,a in self.teacher.journal]\n",
        "    data[\"teacher\"] = elems\n",
        "    # students are numbered entries\n",
        "    for i,s in enumerate(self.students):\n",
        "      ID = str(i + 1)\n",
        "      assert([t for t,a in s.journal] == topics_visited)\n",
        "      elems = [a for t,a in s.journal]\n",
        "      data[\"student_\" + str(i)] = elems\n",
        "    df = pd.DataFrame(data)\n",
        "    df = df.reset_index()\n",
        "    df.to_csv(file_name + \".csv\")\n"
      ],
      "execution_count": 0,
      "outputs": []
    },
    {
      "cell_type": "markdown",
      "metadata": {
        "id": "A1K4qbVARItc",
        "colab_type": "text"
      },
      "source": [
        "###**test**: `Classroom` instantiate"
      ]
    },
    {
      "cell_type": "code",
      "metadata": {
        "id": "87u0b9f4Sse2",
        "colab_type": "code",
        "colab": {}
      },
      "source": [
        "values0, neighbors0 = ingest(\"person_0\")\n",
        "values1, neighbors1 = ingest(\"person_1\")\n",
        "values2, neighbors2 = ingest(\"person_2\")\n",
        "\n",
        "target = 10\n",
        "args = {\"strategy\": \"feedback\", \"repeat\": 1, \"constrained\": \"none\", \\\n",
        "        \"repeat_interval\": REPEAT_INTERVAL, \\\n",
        "        \"soft_radius\": SOFT_RADIUS, \"hard_radius\": HARD_RADIUS, \\\n",
        "        \"help_min\": 0, \"min_threshold\": MIN_THRESHOLD}\n",
        "teacher = Speaker(values0, neighbors0, target, args)\n",
        "\n",
        "student1 = Listener(values1, neighbors1, LEARN_RATE, CONNECT_RATE)\n",
        "student2 = Listener(values2, neighbors2, LEARN_RATE, CONNECT_RATE)\n",
        "students = [student1, student2]\n",
        "\n",
        "classroom = Classroom(teacher, students)\n",
        "classroom.output()"
      ],
      "execution_count": 0,
      "outputs": []
    },
    {
      "cell_type": "markdown",
      "metadata": {
        "id": "3CmAah43RNuU",
        "colab_type": "text"
      },
      "source": [
        "###**test**: `Classroom` step"
      ]
    },
    {
      "cell_type": "code",
      "metadata": {
        "id": "j42kpQ5UXuAt",
        "colab_type": "code",
        "colab": {}
      },
      "source": [
        "classroom.step()\n",
        "print(\"topic: {}\\tvalue: {}\" \\\n",
        "  .format(classroom.topic, classroom.value))\n",
        "print(classroom.additions)\n",
        "classroom.output()"
      ],
      "execution_count": 0,
      "outputs": []
    },
    {
      "cell_type": "markdown",
      "metadata": {
        "id": "iXeNXoPrRPYY",
        "colab_type": "text"
      },
      "source": [
        "###**test**: `Classroom` report"
      ]
    },
    {
      "cell_type": "code",
      "metadata": {
        "id": "7N_BXJLDcxEs",
        "colab_type": "code",
        "colab": {}
      },
      "source": [
        "classroom.output()\n",
        "classroom.export(\"classroom\")"
      ],
      "execution_count": 0,
      "outputs": []
    },
    {
      "cell_type": "markdown",
      "metadata": {
        "id": "IsjR5VYPOJiA",
        "colab_type": "text"
      },
      "source": [
        "#Creating dataset"
      ]
    },
    {
      "cell_type": "code",
      "metadata": {
        "id": "19ou57AJYBga",
        "colab_type": "code",
        "colab": {}
      },
      "source": [
        "\"\"\"\n",
        "  knowledge is mean of Gaussian that produces values [0,1]\n",
        "  generalism is power assigned to connections vs values, lower is more [0,1]\n",
        "  iterations, number of times to run process [1,inf)\n",
        "\"\"\"\n",
        "\n",
        "def instantiate(knowledge, generalism, iterations):\n",
        "  value_mean = knowledge \n",
        "  value_std = 0.25\n",
        "  topic_values = np.clip(np.random.normal(value_mean, value_std, N), 0.0, 1.0)\n",
        "  values = {i:topic_values[i] for i in range(N)}\n",
        " \n",
        "  # generate connections\n",
        "  neighbors = {i:{} for i in range(N)}\n",
        "\n",
        "  # prevent following routine to affect topics asymmetrically\n",
        "  reindex, invindex = shuffle_mapping(N)\n",
        "  values_reindexed, neighbors_reindexed = \\\n",
        "    reindex_val_neigh(reindex, values, neighbors)\n",
        "    \n",
        "  # create graph based on value and connectivity\n",
        "  for it in range(iterations):\n",
        "  # get the connectivity of nodes at this layer\n",
        "    neighbors_mm = min_max([conn(neighbors_reindexed, i) \\\n",
        "      for i in range(N)])\n",
        "    # create new connections based on value and connectivity \n",
        "    for i in range(N):\n",
        "      for j in range(i+1, N):\n",
        "        prob = \\\n",
        "          (values_reindexed[i] * values_reindexed[j]) * \\\n",
        "          math.pow(neighbors_mm[i] * neighbors_mm[j] + EPSILON, generalism)\n",
        "        if random() < prob:\n",
        "          if j not in neighbors_reindexed[i]:\n",
        "            assert(i not in neighbors_reindexed[j])\n",
        "            neighbors_reindexed[i][j] = 1\n",
        "            neighbors_reindexed[j][i] = 1\n",
        "          else:\n",
        "            assert(i in neighbors_reindexed[j])\n",
        "            neighbors_reindexed[i][j] += 1\n",
        "            neighbors_reindexed[j][i] += 1\n",
        "\n",
        "  # convert back to topic-index\n",
        "  values, neighbors = reindex_val_neigh(\\\n",
        "    invindex, values_reindexed, neighbors_reindexed)\n",
        "\n",
        "  return values, neighbors"
      ],
      "execution_count": 0,
      "outputs": []
    },
    {
      "cell_type": "markdown",
      "metadata": {
        "id": "bw5APtSaMalt",
        "colab_type": "text"
      },
      "source": [
        "###Either run the code below to get a new dataset, or simply upload `data.zip`."
      ]
    },
    {
      "cell_type": "code",
      "metadata": {
        "id": "QWINr-on4Qnx",
        "colab_type": "code",
        "colab": {}
      },
      "source": [
        "make_data = False #@param {type: 'boolean'}"
      ],
      "execution_count": 0,
      "outputs": []
    },
    {
      "cell_type": "code",
      "metadata": {
        "id": "gQWmULWYaDtA",
        "colab_type": "code",
        "colab": {}
      },
      "source": [
        "if make_data:\n",
        "  !mkdir data\n",
        "  sample_size = 100\n",
        "  for inc in range(0, 16):\n",
        "    for i in range(sample_size):\n",
        "      values, neighbors = instantiate(0.25, (inc + 5) * 0.05, 3)\n",
        "      file_name = \"data/person_{}\".format(inc * sample_size + i)\n",
        "      save(file_name, values, neighbors)\n",
        "  !zip data.zip data/*"
      ],
      "execution_count": 0,
      "outputs": []
    },
    {
      "cell_type": "markdown",
      "metadata": {
        "id": "3c98__KxN2XK",
        "colab_type": "text"
      },
      "source": [
        "#Dataset analysis\n",
        "\n",
        "We choose a set of specialist teachers and generalist teachers."
      ]
    },
    {
      "cell_type": "code",
      "metadata": {
        "id": "5UipnizXRrFM",
        "colab_type": "code",
        "colab": {}
      },
      "source": [
        "!unzip data.zip"
      ],
      "execution_count": 0,
      "outputs": []
    },
    {
      "cell_type": "code",
      "metadata": {
        "id": "gmv5lH3iR5o7",
        "colab_type": "code",
        "colab": {}
      },
      "source": [
        "folder = \"data/\"\n",
        "prefix = \"person_\"\n",
        "people = {}\n",
        "P = 1600\n",
        "for i in range(P):\n",
        "  file_name = folder + prefix + str(i)\n",
        "  print(file_name)\n",
        "  values, neighbors = ingest(file_name)\n",
        "  people[i] = (values, neighbors)"
      ],
      "execution_count": 0,
      "outputs": []
    },
    {
      "cell_type": "code",
      "metadata": {
        "id": "ETCeMPvXkP8D",
        "colab_type": "code",
        "colab": {}
      },
      "source": [
        "rows = []\n",
        "nodes = [n for n in range(N)]\n",
        "for i, person in people.items():\n",
        "  values, neighbors = person\n",
        "  subgraphs = find_subgraphs(neighbors, nodes)\n",
        "  for s in subgraphs:\n",
        "    sub_row = subgraph_metrics(values, neighbors, s)\n",
        "    sub_row[\"person\"] = i\n",
        "    for n in s:\n",
        "      node_row = sub_row\n",
        "      node_row[\"topic\"] = [n] \n",
        "      node_row[\"value\"] = [values[n]]\n",
        "      node_row[\"conn\"] = [conn(neighbors, n)]\n",
        "      rows.append(pd.DataFrame.from_dict(node_row))\n",
        "frame = pd.concat(rows)"
      ],
      "execution_count": 0,
      "outputs": []
    },
    {
      "cell_type": "code",
      "metadata": {
        "id": "cHx7wtckAai7",
        "colab_type": "code",
        "colab": {}
      },
      "source": [
        "value_bins = [i * 0.05 for i in range(21)]\n",
        "frame[\"value_bin\"] = pd.cut(frame[\"value\"], value_bins)\n",
        "frame[\"avg_val_bin\"] = pd.cut(frame[\"avg_val\"], value_bins)"
      ],
      "execution_count": 0,
      "outputs": []
    },
    {
      "cell_type": "markdown",
      "metadata": {
        "id": "IEy9kCD_R8Nr",
        "colab_type": "text"
      },
      "source": [
        "##Specialist analysis\n",
        "\n",
        "`value_bin = [0.75, 1)`\n",
        "\n",
        "`size = [2,4]`"
      ]
    },
    {
      "cell_type": "code",
      "metadata": {
        "id": "D5fVivPloCAj",
        "colab_type": "code",
        "colab": {}
      },
      "source": [
        "# specialist analysis\n",
        "\n",
        "value_threshold = 15 # 0.75\n",
        "size_min_threshold = 2\n",
        "size_max_threshold = 4\n",
        "\n",
        "specialist = frame[frame[\"size\"] >= size_min_threshold]\n",
        "specialist = specialist[specialist[\"size\"] <= size_max_threshold]\n",
        "specialist = specialist[specialist[\"value\"] >= value_threshold * 0.05]\n",
        "specialist = specialist.sort_values(by=[\"value_bin\",\"size\"])\n",
        "specialist = specialist.reset_index()\n",
        "\n",
        "ss = specialist.groupby([\"value_bin\", \"size\"])\n",
        "ss = ss[\"topic\"].count()\n",
        "ss = ss.unstack(level=\"size\")\n",
        "plt.figure(num=None, figsize=(1, 6), dpi=80, facecolor='w', edgecolor='k')\n",
        "heatmap = plt.pcolor(ss, cmap=plt.cm.Blues)\n",
        "plt.colorbar(heatmap)\n",
        "plt.xticks(np.arange(0.5, len(ss.columns)), ss.columns)\n",
        "plt.yticks(np.arange(0.0, len(ss.index)), \\\n",
        "  [i/20 for i in range(len(ss.index))])\n",
        "plt.show()\n",
        "\n",
        "specialist.to_csv(\"specialist.csv\")"
      ],
      "execution_count": 0,
      "outputs": []
    },
    {
      "cell_type": "markdown",
      "metadata": {
        "id": "ChUJaV5GSJGK",
        "colab_type": "text"
      },
      "source": [
        "##Generalist `avg_val` analysis"
      ]
    },
    {
      "cell_type": "code",
      "metadata": {
        "id": "Uvn-W7h8CmAF",
        "colab_type": "code",
        "colab": {}
      },
      "source": [
        "size_threshold = 1 # group size is at least 2\n",
        "generalist1 = frame[frame[\"size\"] > size_threshold]\n",
        "generalist1 = generalist1.groupby([\"value_bin\", \"avg_val_bin\"])\n",
        "gs1 = generalist1[\"topic\"].count()\n",
        "gs1 = gs1.unstack(level=\"avg_val_bin\")\n",
        "gs1 = gs1.loc[:, :] # row : value_bin, col : avg_val_bin\n",
        "plt.figure(num=None, figsize=(9, 6), dpi=80, facecolor='w', edgecolor='k')\n",
        "heatmap = plt.pcolor(gs1, cmap=plt.cm.Blues)\n",
        "plt.colorbar(heatmap)\n",
        "plt.xticks(np.arange(0.0, len(gs1.columns), 1), \\\n",
        "  [i/20 for i in range(20)])\n",
        "plt.yticks(np.arange(0.0, len(gs1.index), 1), \\\n",
        "  [i/20 for i in range(20)])\n",
        "plt.show()"
      ],
      "execution_count": 0,
      "outputs": []
    },
    {
      "cell_type": "markdown",
      "metadata": {
        "id": "CV6ukZISSRA0",
        "colab_type": "text"
      },
      "source": [
        "##Generalist analysis\n",
        "\n",
        "`value >= 0.25`\n",
        "\n",
        "`size >= 5`\n",
        "\n",
        "`avg_val_bin >= 0.3`"
      ]
    },
    {
      "cell_type": "code",
      "metadata": {
        "id": "VYZ77PEi_Dif",
        "colab_type": "code",
        "colab": {}
      },
      "source": [
        "# generalist analysis\n",
        "avg_val_threshold = 0.3\n",
        "value_threshold = 5 # 0.25\n",
        "size_threshold = 5\n",
        "\n",
        "# generalist: value_bin [0.25, 1), size [5, inf), avg_val [0.3, 1)\n",
        "generalist = frame[frame[\"avg_val\"] > avg_val_threshold]\n",
        "generalist = generalist[generalist[\"size\"] >= size_threshold]\n",
        "generalist = generalist[generalist[\"value\"] >= value_threshold * 0.05]\n",
        "generalist = generalist.sample(frac=1)\n",
        "generalist = generalist.sort_values(by=[\"value_bin\",\"size\"])\n",
        "generalist = generalist.reset_index()\n",
        "generalist[\"overflow\"] = 0\n",
        "max_cell_threshold = 5\n",
        "counter = 0\n",
        "prev_vb = None \n",
        "prev_size = None\n",
        "for i, row in generalist.iterrows():\n",
        "  if row[\"value_bin\"] == prev_vb and row[\"size\"] == prev_size:\n",
        "    counter += 1\n",
        "  else:\n",
        "    counter = 1\n",
        "    prev_vb = row[\"value_bin\"]\n",
        "    prev_size = row[\"size\"]\n",
        "    continue\n",
        "  if counter > max_cell_threshold:\n",
        "    generalist.loc[i, \"overflow\"] = 1\n",
        "generalist = generalist[generalist[\"overflow\"] == 0]\n",
        "generalist = generalist.reset_index()\n",
        "\n",
        "gs2 = generalist.groupby([\"value_bin\", \"size\"])\n",
        "gs2 = gs2[\"topic\"].count()\n",
        "gs2 = gs2.unstack(level=\"size\")\n",
        "plt.figure(num=None, figsize=(8, 6), dpi=80, facecolor='w', edgecolor='k')\n",
        "heatmap = plt.pcolor(gs2, cmap=plt.cm.Blues)\n",
        "plt.colorbar(heatmap)\n",
        "plt.xticks(np.arange(0.5, len(gs2.columns), 1), gs2.columns)\n",
        "plt.yticks(np.arange(0.0, len(gs2.index), 1), \\\n",
        "  [i/20 for i in range(20)])\n",
        "plt.show()\n",
        "\n",
        "generalist.to_csv(\"generalist.csv\")"
      ],
      "execution_count": 0,
      "outputs": []
    },
    {
      "cell_type": "markdown",
      "metadata": {
        "id": "Foz1j1kegmFk",
        "colab_type": "text"
      },
      "source": [
        "#Experimental runs"
      ]
    },
    {
      "cell_type": "markdown",
      "metadata": {
        "id": "hHwHiK8XWvDA",
        "colab_type": "text"
      },
      "source": [
        "###Choose analysis and teacher set\n",
        "Please upload `specialist_time.csv` and `generalist_time.csv` for \"time_convergence\".\n",
        "\n",
        "Please upload `specialist.csv` and `generalist.csv` for \"heatmap\"."
      ]
    },
    {
      "cell_type": "code",
      "metadata": {
        "id": "he-JXHwDT0fe",
        "colab_type": "code",
        "colab": {}
      },
      "source": [
        "analysis = \"heat_map\" #@param [\"time_convergence\", \"heat_map\"]"
      ],
      "execution_count": 0,
      "outputs": []
    },
    {
      "cell_type": "code",
      "metadata": {
        "id": "u2jg90Eh9275",
        "colab_type": "code",
        "colab": {}
      },
      "source": [
        "usecols = [i for i in range(17)]\n",
        "\n",
        "dtype = {\"size\":np.int32,\\\n",
        "  \"min_val\":np.float64,\"max_val\":np.float64,\\\n",
        "  \"avg_val\":np.float64,\"std_val\":np.float64,\\\n",
        "  \"min_conn\":np.float64,\"max_conn\":np.float64,\\\n",
        "  \"avg_conn\":np.float64,\"std_conn\":np.float64,\\\n",
        "  \"diameter\":np.int32,\\\n",
        "  \"person\":np.int32,\"topic\":np.int32,\\\n",
        "  \"value\":np.float64,\"conn\":np.int32,\\\n",
        "  \"value_bin\":str,\"avg_val_bin\":str}\n",
        "\n",
        "if analysis == \"time_convergence\":\n",
        "  specialist = pd.read_csv(\"specialist_time.csv\",\\\n",
        "    usecols=usecols, index_col=0, nrows=14, dtype=dtype)\n",
        "  generalist = pd.read_csv(\"generalist_time.csv\",\n",
        "    usecols=usecols, index_col=0, nrows=16, dtype=dtype)\n",
        "else: \n",
        "  assert(analysis == \"heat_map\")\n",
        "  specialist = pd.read_csv(\"specialist.csv\")\n",
        "  generalist = pd.read_csv(\"generalist.csv\")"
      ],
      "execution_count": 0,
      "outputs": []
    },
    {
      "cell_type": "code",
      "metadata": {
        "id": "PpX194mPHkwh",
        "colab_type": "code",
        "colab": {}
      },
      "source": [
        "value_bins = [i * 0.2 for i in range(7)]\n",
        "frame[\"value_band\"] = pd.cut(frame[\"value\"], value_bins, \\\n",
        "  right=False, include_lowest=True)\n",
        "frame[\"avg_val_band\"] = pd.cut(frame[\"avg_val\"], value_bins, \\\n",
        "  right=False, include_lowest=True)\n",
        "students_by_topic = {}\n",
        "\n",
        "for i in range(N):\n",
        "  temp = frame[frame[\"topic\"] == i]\n",
        "  students_by_topic[i] = temp.reset_index()"
      ],
      "execution_count": 0,
      "outputs": []
    },
    {
      "cell_type": "code",
      "metadata": {
        "id": "bAANyhJBBJWW",
        "colab_type": "code",
        "colab": {}
      },
      "source": [
        "# teaching methods\n",
        "\n",
        "strategies = [\"fixed\", \"inspired\", \"inspired_repeat\", \\\n",
        "              \"feedback_repeat\", \"feedback_inverse_repeat\"]\n",
        "args_fixed = {\"strategy\":\"fixed\", \\\n",
        "              \"repeat\":0, \\\n",
        "              \"constrained\":\"none\"}\n",
        "args_inspired = {\"strategy\":\"inspired\", \\\n",
        "                 \"repeat\":0, \\\n",
        "                 \"constrained\":\"none\",\\\n",
        "                 \"soft_radius\": SOFT_RADIUS}\n",
        "args_inspired_repeat = {\"strategy\":\"inspired\", \\\n",
        "                        \"repeat\":1, \\\n",
        "                        \"constrained\":\"none\", \\\n",
        "                        \"repeat_interval\":REPEAT_INTERVAL,\\\n",
        "                        \"soft_radius\": SOFT_RADIUS}\n",
        "args_feedback_repeat = {\"strategy\":\"feedback\", \\\n",
        "                 \"repeat\":1, \\\n",
        "                 \"constrained\":\"none\", \\\n",
        "                 \"repeat_interval\":REPEAT_INTERVAL,\\\n",
        "                 \"help_min\":0}\n",
        "args_feedback_inverse_repeat = {\"strategy\":\"feedback\", \\\n",
        "                         \"repeat\":0, \\\n",
        "                         \"constrained\":\"none\",\\\n",
        "                         \"repeat_interval\":REPEAT_INTERVAL,\\\n",
        "                         \"help_min\":1, \\\n",
        "                         \"min_threshold\":MIN_THRESHOLD}"
      ],
      "execution_count": 0,
      "outputs": []
    },
    {
      "cell_type": "code",
      "metadata": {
        "id": "Hw6hb2-EjNGH",
        "colab_type": "code",
        "colab": {}
      },
      "source": [
        "def trajectories(teacher_inp, strategy):\n",
        "  person, topic, vn = teacher_inp\n",
        "\n",
        "  if strategy == \"fixed\":\n",
        "    args = args_fixed\n",
        "  elif strategy == \"inspired\":\n",
        "    args = args_inspired\n",
        "  elif strategy == \"inspired_repeat\":\n",
        "    args = args_inspired_repeat\n",
        "  elif strategy == \"feedback_repeat\":\n",
        "    args = args_feedback_repeat\n",
        "  elif strategy == \"feedback_inverse_repeat\":\n",
        "    args = args_feedback_inverse_repeat\n",
        "  else:\n",
        "    print(\"bad strategy: '{}'\".format(strategy))\n",
        "    return\n",
        "\n",
        "  values, neighbors = vn\n",
        "  target = topic\n",
        "  values = copy.deepcopy(values)\n",
        "  neighbors = copy.deepcopy(neighbors)\n",
        "  teacher = Speaker(values, neighbors, target, args)\n",
        "\n",
        "  students = []\n",
        "  for i,p in people.items():\n",
        "    values, neighbors = p\n",
        "    values = copy.deepcopy(values)\n",
        "    neighbors = copy.deepcopy(neighbors)\n",
        "    student = Listener(values, neighbors, LEARN_RATE, CONNECT_RATE)\n",
        "    students.append(student)\n",
        "\n",
        "  classroom = Classroom(teacher, students)\n",
        "  for i in range(T):\n",
        "    if i % (T // 10) == 0:\n",
        "      print(\"Step \", i)\n",
        "    classroom.step()\n",
        "\n",
        "  classroom.export(\"classroom\")\n",
        "  classroom_trajs = pd.read_csv(\"classroom.csv\")\n",
        "  topics = classroom_trajs[\"topic\"]\n",
        "  teacher_traj = classroom_trajs[\"teacher\"]\n",
        "  student_trajs = []\n",
        "  for i in people.keys():\n",
        "    student_trajs.append(classroom_trajs[\"student_\" + str(i)])\n",
        "\n",
        "  return topics, teacher_traj, student_trajs"
      ],
      "execution_count": 0,
      "outputs": []
    },
    {
      "cell_type": "markdown",
      "metadata": {
        "id": "4fy_JNIuvvem",
        "colab_type": "text"
      },
      "source": [
        "##Per-teacher time convergence analysis"
      ]
    },
    {
      "cell_type": "code",
      "metadata": {
        "id": "mog3XW0BtQ1v",
        "colab_type": "code",
        "colab": {}
      },
      "source": [
        "# plot a specific time convergence graph\n",
        "\n",
        "up_to = T\n",
        "\n",
        "def plot_time_convergence_helper(headline, all_trajs):\n",
        "  min_traj = np.amin(all_trajs, axis=0)\n",
        "  max_traj = np.amax(all_trajs, axis=0)\n",
        "  mean_traj = np.mean(all_trajs, axis=0)\n",
        "  std_traj = np.std(all_trajs, axis=0)\n",
        "  under_traj = np.clip(mean_traj - std_traj, 0.0, 1.0)\n",
        "  over_traj = np.clip(mean_traj + std_traj, 0.0, 1.0)\n",
        "\n",
        "  fig = plt.figure()\n",
        "  plt.plot(min_traj[:up_to], linewidth=1, color=\"red\")\n",
        "  plt.plot(max_traj[:up_to], linewidth=1, color=\"green\")\n",
        "  plt.plot(mean_traj[:up_to], linewidth=2, color=\"blue\")\n",
        "  plt.fill_between([t for t in range(up_to)], \\\n",
        "    under_traj[:up_to], over_traj[:up_to], color=\"blue\", alpha=.1)\n",
        "  print(headline)\n",
        "  plt.savefig(headline + \".png\")\n",
        "  plt.show()\n",
        "\n",
        "def plot_time_convergence(headline, all_trajs, time_topics, target_topic):\n",
        "  # all time-points\n",
        "  plot_time_convergence_helper(headline, all_trajs)\n",
        "\n",
        "  # only target time-points\n",
        "  all_trajs_target = np.zeros(all_trajs.shape)\n",
        "  time_mimic = 0\n",
        "  for i in range(time_topics.shape[0]):\n",
        "    if time_topics[i] == target_topic:\n",
        "      time_mimic = i\n",
        "    all_trajs_target[:,i] = all_trajs[:,time_mimic]\n",
        "  plot_time_convergence_helper(headline + \"_target\", all_trajs_target)"
      ],
      "execution_count": 0,
      "outputs": []
    },
    {
      "cell_type": "code",
      "metadata": {
        "id": "6wx3NJoZJdoh",
        "colab_type": "code",
        "colab": {}
      },
      "source": [
        "def generate_time_convergence(teacher, strategy, img_file):\n",
        "\n",
        "   person, topic, vn = teacher\n",
        "   \n",
        "  instance = img_file + \\\n",
        "    \"/strategy_{}_person_{}_topic_{}_\".format(strategy,person,topic)\n",
        "    \n",
        "   print(\"Teacher: {}\\tTopic: {}\\tStrategy: {}\".format(person, topic, strategy))\n",
        "   topics, teacher_trajs, students_trajs = trajectories(teacher, strategy)\n",
        "\n",
        "  value_band_ = list(students_by_topic[topic][\"value_band\"].unique())\n",
        "  size_ = sorted(list(students_by_topic[topic][\"size\"].unique()))\n",
        "  avg_val_band_ = list(students_by_topic[topic][\"avg_val_band\"].unique())\n",
        "\n",
        "  cells = {i:{j:{k:[] \\\n",
        "    for k in avg_val_band_} for j in size_} for i in value_band_}\n",
        "  for i, row in students_by_topic[topic].iterrows():\n",
        "    assert(row[\"topic\"] == topic)\n",
        "    person = row[\"person\"]\n",
        "    value_band = row[\"value_band\"]\n",
        "    size_band = row[\"size\"]\n",
        "    avg_val_band = row[\"avg_val_band\"]\n",
        "    cells[value_band][size_band][avg_val_band].append(student_trajs[person])\n",
        "\n",
        "  for i in value_band_:\n",
        "    all_trajs = [] # row : person / col : time\n",
        "    for j in size_:\n",
        "      for k in avg_val_band_:  \n",
        "        all_trajs += cells[i][j][k]\n",
        "    all_trajs = np.array(all_trajs)\n",
        "    headline = \"value_{}\".format(i)\n",
        "    headline = instance + headline\n",
        "    plot_time_convergence(headline, all_trajs, topics, topic)\n",
        "\n",
        "  for i in size_:\n",
        "    all_trajs = [] # row : person / col : time\n",
        "    for j in value_band_:\n",
        "      for k in avg_val_band_:  \n",
        "        all_trajs += cells[j][i][k]\n",
        "    all_trajs = np.array(all_trajs)\n",
        "    headline = \"size_{}\".format(i)\n",
        "    headline = instance + headline\n",
        "    plot_time_convergence(headline, all_trajs, topics, topic)\n",
        "\n",
        "  for i in avg_val_band_:\n",
        "    all_trajs = [] # row : person / col : time\n",
        "    for j in value_band_:\n",
        "      for k in size_:  \n",
        "        all_trajs += cells[j][k][i]\n",
        "    all_trajs = np.array(all_trajs)\n",
        "    headline = \"avg_val_{}\".format(i)\n",
        "    headline = instance + headline\n",
        "    plot_time_convergence(headline, all_trajs, topics, topic)\n",
        "\n",
        "  all_trajs = [] # row : person / col : time\n",
        "  for i in value_band_:\n",
        "    for j in size_:\n",
        "      for k in avg_val_band_:  \n",
        "        all_trajs += cells[i][j][k]\n",
        "  all_trajs = np.array(all_trajs)\n",
        "  headline = instance\n",
        "  plot_time_convergence(headline, all_trajs, topics, topic)\n"
      ],
      "execution_count": 0,
      "outputs": []
    },
    {
      "cell_type": "code",
      "metadata": {
        "id": "KLsq4nanGm_c",
        "colab_type": "code",
        "colab": {}
      },
      "source": [
        "# specialists\n",
        "\n",
        "if analysis == \"time_convergence\":\n",
        "  specialist_teachers = []\n",
        "  for i, row in specialist.iterrows():\n",
        "    topic = row[\"topic\"]\n",
        "    person = row[\"person\"]\n",
        "    value, neighbors = people[person]\n",
        "    specialist_teachers.append((person, topic, (value, neighbors)))\n",
        "\n",
        "  img_file = \"specialist_imgs\"\n",
        "  !mkdir $img_file\n",
        "  for s in strategies:\n",
        "    for st in specialist_teachers:\n",
        "      generate_time_convergence(st, s, img_file)\n",
        "  !zip -r $img_file\".zip\" $img_file"
      ],
      "execution_count": 0,
      "outputs": []
    },
    {
      "cell_type": "code",
      "metadata": {
        "id": "2litqf8XLKtq",
        "colab_type": "code",
        "colab": {}
      },
      "source": [
        "# generalists\n",
        "\n",
        "if analysis == \"time_convergence\":\n",
        "  generalist_teachers = []\n",
        "  for i, row in generalist.iterrows():\n",
        "    topic = row[\"topic\"]\n",
        "    person = row[\"person\"]\n",
        "    value, neighbors = people[person]\n",
        "    generalist_teachers.append((person, topic, (value, neighbors)))\n",
        "\n",
        "  img_file = \"generalist_imgs\"\n",
        "  !mkdir $img_file\n",
        "  for s in strategies:\n",
        "    for st in generalist_teachers:\n",
        "      generate_time_convergence(st, s, img_file)\n",
        "  !zip -r $img_file\".zip\" $img_file"
      ],
      "execution_count": 0,
      "outputs": []
    },
    {
      "cell_type": "markdown",
      "metadata": {
        "id": "34hhMsSiwK_e",
        "colab_type": "text"
      },
      "source": [
        "##Teacher comparison via heatmap\n"
      ]
    },
    {
      "cell_type": "code",
      "metadata": {
        "id": "w9ziPGCClfrk",
        "colab_type": "code",
        "colab": {}
      },
      "source": [
        "# specialist\n",
        "\n",
        "if analysis == \"heat_map\":\n",
        "  specialist_groups = specialist.groupby([\"value_bin\", \"size\"])\n",
        "\n",
        "  for s in strategies:\n",
        "    print(\"Strategy: \", s)\n",
        "    strat_df = pd.DataFrame({}, index = specialist[\"value_bin\"].unique(), \\\n",
        "      columns = specialist[\"size\"].unique())\n",
        "    \n",
        "    for label, group in specialist_groups:\n",
        "      value_bin_label = label[0]\n",
        "      size_label = label[1]\n",
        "\n",
        "      teachers = []\n",
        "      for i, row in group.iterrows():\n",
        "        topic = row[\"topic\"]\n",
        "        person = row[\"person\"]\n",
        "        value, neighbors = people[person]\n",
        "        teachers.append((person, topic, (value, neighbors)))\n",
        "\n",
        "      cum_add = []\n",
        "      for st in teachers:\n",
        "        topics, teacher_trajs, students_trajs = trajectories(st, s)\n",
        "        cum_add += [np.sum(np.array(stt)) for stt in students_trajs]\n",
        "      avg_learn = np.mean(np.array(cum_add))\n",
        "      strat_df.loc[value_bin_label, size_label] = avg_learn\n",
        "\n",
        "    strat_df.to_csv(\"specialist_{}.csv\".format(s))"
      ],
      "execution_count": 0,
      "outputs": []
    },
    {
      "cell_type": "code",
      "metadata": {
        "id": "fbEpwnwGunfK",
        "colab_type": "code",
        "colab": {}
      },
      "source": [
        "# generalist\n",
        "\n",
        "if analysis == \"heat_map\":\n",
        "  generalist_groups = generalist.groupby([\"value_bin\", \"size\"])\n",
        "\n",
        "  for s in strategies:\n",
        "    print(\"Strategy: \", s)\n",
        "    strat_df = pd.DataFrame({}, index = generalist[\"value_bin\"].unique(), \\\n",
        "      columns = generalist[\"size\"].unique())\n",
        "    \n",
        "    for label, group in generalist_groups:\n",
        "      value_bin_label = label[0]\n",
        "      size_label = label[1]\n",
        "\n",
        "      teachers = []\n",
        "      for i, row in group.iterrows():\n",
        "        topic = row[\"topic\"]\n",
        "        person = row[\"person\"]\n",
        "        value, neighbors = people[person]\n",
        "        teachers.append((person, topic, (value, neighbors)))\n",
        "\n",
        "      cum_add = []\n",
        "      for st in teachers:\n",
        "        topics, teacher_trajs, students_trajs = trajectories(st, s)\n",
        "        cum_add += [np.sum(np.array(stt)) for stt in students_trajs]\n",
        "      avg_learn = np.mean(np.array(cum_add))\n",
        "      strat_df.loc[value_bin_label, size_label] = avg_learn\n",
        "\n",
        "    strat_df.to_csv(\"generalist_{}.csv\".format(s))"
      ],
      "execution_count": 0,
      "outputs": []
    },
    {
      "cell_type": "code",
      "metadata": {
        "id": "6uPGYNF-Au5g",
        "colab_type": "code",
        "colab": {}
      },
      "source": [
        "# standard comparison of value across plots\n",
        "low_extent = 0\n",
        "high_extent = 1\n",
        "specialist_folder = \"specialist_heat_map/\"\n",
        "generalist_folder = \"generalist_heat_map/\""
      ],
      "execution_count": 0,
      "outputs": []
    },
    {
      "cell_type": "code",
      "metadata": {
        "id": "lk4EKyvrCXW8",
        "colab_type": "code",
        "colab": {}
      },
      "source": [
        "!mkdir $specialist_folder\n",
        "\n",
        "def show_specialist(specialist_df, name):\n",
        "  print(name)\n",
        "  plt.figure(num=None, figsize=(3, 4), dpi=80, facecolor='w', edgecolor='k')\n",
        "  heatmap = plt.pcolor(specialist_df, cmap=plt.cm.Blues, \\\n",
        "    vmin=low_extent, vmax=high_extent)\n",
        "  plt.colorbar(heatmap)\n",
        "  plt.xticks(np.arange(0.5, len(specialist_df.columns), 1), \\\n",
        "    specialist_df.columns) # size\n",
        "  plt.yticks(np.arange(0.5, len(specialist_df.index), 1), \\\n",
        "    specialist_df.index) # value_bin\n",
        "  plt.savefig(specialist_folder + name + \".png\")\n",
        "  plt.show()"
      ],
      "execution_count": 0,
      "outputs": []
    },
    {
      "cell_type": "code",
      "metadata": {
        "id": "N5D6i87kC-kz",
        "colab_type": "code",
        "colab": {}
      },
      "source": [
        "!mkdir $generalist_folder\n",
        "\n",
        "def show_generalist(generalist_df, name):\n",
        "  print(name)\n",
        "  plt.figure(num=None, figsize=(8, 4), dpi=80, facecolor='w', edgecolor='k')\n",
        "  heatmap = plt.pcolor(generalist_df, cmap=plt.cm.Blues, \\\n",
        "    vmin=low_extent, vmax=high_extent)\n",
        "  plt.colorbar(heatmap)\n",
        "  plt.xticks(np.arange(0.5, len(generalist_df.columns), 1), \\\n",
        "    generalist_df.columns) # size\n",
        "  plt.yticks(np.arange(0.5, len(generalist_df.index), 1), \\\n",
        "    generalist_df.index) # value_bin\n",
        "  plt.savefig(generalist_folder + name + \".png\")\n",
        "  plt.show()"
      ],
      "execution_count": 0,
      "outputs": []
    },
    {
      "cell_type": "code",
      "metadata": {
        "id": "9yq9OUBvFKKt",
        "colab_type": "code",
        "outputId": "4946793a-81c6-4f00-eb44-ab765c42e586",
        "colab": {
          "base_uri": "https://localhost:8080/",
          "height": 1000
        }
      },
      "source": [
        "specialist_fixed = pd.read_csv(\\\n",
        "  \"specialist_fixed.csv\", index_col=0)\n",
        "specialist_inspired = pd.read_csv(\\\n",
        "  \"specialist_inspired.csv\", index_col=0)\n",
        "specialist_inspired_repeat = pd.read_csv(\\\n",
        "  \"specialist_inspired_repeat.csv\", index_col=0)\n",
        "specialist_feedback_repeat = pd.read_csv(\\\n",
        "  \"specialist_feedback_repeat.csv\", index_col=0)\n",
        "\n",
        "show_specialist(specialist_fixed, \"specialist_fixed\")\n",
        "show_specialist(specialist_inspired, \"specialist_inspired\")\n",
        "show_specialist(specialist_inspired_repeat, \"specialist_inspired_repeat\")\n",
        "show_specialist(specialist_feedback_repeat, \"specialist_feedback_repeat\")\n",
        "\n",
        "!zip -r $specialist_folder\".zip\" $specialist_folder"
      ],
      "execution_count": 0,
      "outputs": [
        {
          "output_type": "stream",
          "text": [
            "specialist_fixed\n"
          ],
          "name": "stdout"
        },
        {
          "output_type": "display_data",
          "data": {
            "image/png": "[encoded data removed]",
            "text/plain": [
              "<Figure size 240x320 with 2 Axes>"
            ]
          },
          "metadata": {
            "tags": []
          }
        },
        {
          "output_type": "stream",
          "text": [
            "specialist_inspired\n"
          ],
          "name": "stdout"
        },
        {
          "output_type": "display_data",
          "data": {
            "image/png": "[encoded data removed]",
            "text/plain": [
              "<Figure size 240x320 with 2 Axes>"
            ]
          },
          "metadata": {
            "tags": []
          }
        },
        {
          "output_type": "stream",
          "text": [
            "specialist_inspired_repeat\n"
          ],
          "name": "stdout"
        },
        {
          "output_type": "display_data",
          "data": {
            "image/png": "[encoded data removed]",
            "text/plain": [
              "<Figure size 240x320 with 2 Axes>"
            ]
          },
          "metadata": {
            "tags": []
          }
        },
        {
          "output_type": "stream",
          "text": [
            "specialist_feedback_repeat\n"
          ],
          "name": "stdout"
        },
        {
          "output_type": "display_data",
          "data": {
            "image/png": "[encoded data removed]",
            "text/plain": [
              "<Figure size 240x320 with 2 Axes>"
            ]
          },
          "metadata": {
            "tags": []
          }
        }
      ]
    },
    {
      "cell_type": "code",
      "metadata": {
        "id": "KtP4YNACAgrM",
        "colab_type": "code",
        "outputId": "22617f4b-e405-4861-95b4-3a24b9f4d61b",
        "colab": {
          "base_uri": "https://localhost:8080/",
          "height": 1000
        }
      },
      "source": [
        "generalist_fixed = pd.read_csv(\\\n",
        "  \"generalist_fixed.csv\", index_col=0)\n",
        "generalist_inspired = pd.read_csv(\\\n",
        "  \"generalist_inspired.csv\", index_col=0)\n",
        "generalist_inspired_repeat = pd.read_csv(\\\n",
        "  \"generalist_inspired_repeat.csv\", index_col=0)\n",
        "generalist_feedback_repeat = pd.read_csv(\\\n",
        "  \"generalist_feedback_repeat.csv\", index_col=0)\n",
        "\n",
        "show_generalist(generalist_fixed, \"generalist_fixed\")\n",
        "show_generalist(generalist_inspired, \"generalist_inspired\")\n",
        "show_generalist(generalist_inspired_repeat, \"generalist_inspired_repeat\")\n",
        "show_generalist(generalist_feedback_repeat, \"generalist_feedback_repeat\")\n",
        "\n",
        "!zip -r $generalist_folder\".zip\" $generalist_folder"
      ],
      "execution_count": 0,
      "outputs": [
        {
          "output_type": "stream",
          "text": [
            "generalist_fixed\n"
          ],
          "name": "stdout"
        },
        {
          "output_type": "display_data",
          "data": {
            "image/png": "[encoded data removed]",
            "text/plain": [
              "<Figure size 640x320 with 2 Axes>"
            ]
          },
          "metadata": {
            "tags": []
          }
        },
        {
          "output_type": "stream",
          "text": [
            "generalist_inspired\n"
          ],
          "name": "stdout"
        },
        {
          "output_type": "display_data",
          "data": {
            "image/png": "[encoded data removed]",
            "text/plain": [
              "<Figure size 640x320 with 2 Axes>"
            ]
          },
          "metadata": {
            "tags": []
          }
        },
        {
          "output_type": "stream",
          "text": [
            "generalist_inspired_repeat\n"
          ],
          "name": "stdout"
        },
        {
          "output_type": "display_data",
          "data": {
            "image/png": "[encoded data removed]",
            "text/plain": [
              "<Figure size 640x320 with 2 Axes>"
            ]
          },
          "metadata": {
            "tags": []
          }
        },
        {
          "output_type": "stream",
          "text": [
            "generalist_feedback_repeat\n"
          ],
          "name": "stdout"
        },
        {
          "output_type": "display_data",
          "data": {
            "image/png": "[encoded data removed]",
            "text/plain": [
              "<Figure size 640x320 with 2 Axes>"
            ]
          },
          "metadata": {
            "tags": []
          }
        },
        {
          "output_type": "stream",
          "text": [
            "  adding: generalist_heat_map/ (stored 0%)\n",
            "  adding: generalist_heat_map/generalist_inspired_repeat.png (deflated 16%)\n",
            "  adding: generalist_heat_map/generalist_inspired.png (deflated 15%)\n",
            "  adding: generalist_heat_map/generalist_fixed.png (deflated 15%)\n",
            "  adding: generalist_heat_map/generalist_feedback_repeat.png (deflated 16%)\n"
          ],
          "name": "stdout"
        }
      ]
    }
  ]
}